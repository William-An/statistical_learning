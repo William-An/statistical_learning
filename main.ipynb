{
 "cells": [
  {
   "cell_type": "code",
   "metadata": {},
   "outputs": [],
   "source": [
    "# Necessary library\n",
    "import numpy as np\n",
    "# from tqdm.notebook import trange\n",
    "from tqdm import trange\n",
    "from matplotlib import pyplot as plt"
   ]
  },
  {
   "cell_type": "code",
   "metadata": {},
   "outputs": [],
   "source": [
    "# Import datasets\n",
    "datasets_dir = \"./datasets/\"\n",
    "\n",
    "# MNIST\n",
    "from keras.datasets import mnist\n",
    "(mnist_data_train, mnist_label_train), (mnist_data_test, mnist_label_test) = mnist.load_data()\n",
    "\n",
    "# Iris\n",
    "iris_label_mapping = {\"Iris-setosa\": 0, \"Iris-versicolor\": 1, \"Iris-virginica\": 2}\n",
    "iris = np.genfromtxt(datasets_dir + \"iris.csv\", delimiter = \",\", converters = {-1 : lambda label : iris_label_mapping[label.decode()]})\n",
    "iris_label = iris[:, -1]\n",
    "iris_data = iris[:, 0:-1]\n",
    "\n",
    "# Pima\n",
    "pima = np.genfromtxt(datasets_dir + \"pima-indians-diabetes.csv\", delimiter = \",\")\n",
    "pima_label = pima[:, -1]\n",
    "pima_data = pima[:, :-1]\n",
    "\n",
    "# Sonar\n",
    "sonar_mapping = {\"R\": 0, \"M\": 1}\n",
    "sonar = np.genfromtxt(datasets_dir + \"sonar.csv\", delimiter = \",\", converters = {-1 : lambda label : sonar_mapping[label.decode()]})\n",
    "sonar_label = sonar[:, -1]\n",
    "sonar_data = sonar[:, :-1]"
   ]
  },
  {
   "cell_type": "code",
   "metadata": {},
   "outputs": [],
   "source": [
    "# Flatten MNIST\n",
    "mnist_data_train_flatten = mnist_data_train.reshape((mnist_data_train.shape[0], -1))\n",
    "mnist_data_test_flatten = mnist_data_test.reshape((mnist_data_test.shape[0], -1))"
   ]
  },
  {
   "cell_type": "code",
   "metadata": {},
   "outputs": [],
   "source": [
    "# Utility functions\n",
    "\n",
    "# Visulization of dataset\n",
    "def data_viz(x, y, label=[0]):\n",
    "    color_strings = ['#1f77b4', '#ff7f0e', '#2ca02c', '#d62728', '#9467bd', '#8c564b', '#e377c2', '#7f7f7f', '#bcbd22', '#17becf']\n",
    "    plt.scatter(x, y, c = [color_strings[int(i)] for i in label])\n",
    "\n",
    "# Dataset partition for train and test data\n",
    "def data_partition(data, label, test_ratio = 0.3):\n",
    "    numRows = data.shape[0]\n",
    "    cutoff = int(numRows * (1 - 0.3))\n",
    "    dataset = np.concatenate((data, label.reshape(len(label), 1)), axis = 1)\n",
    "    np.random.shuffle(dataset)\n",
    "    train_data, test_data = dataset[:cutoff, :-1], dataset[cutoff:, :-1]\n",
    "    train_label, test_label = dataset[:cutoff, -1], dataset[cutoff:, -1]\n",
    "    return (train_data, train_label), (test_data, test_label)\n"
   ]
  },
  {
   "cell_type": "code",
   "metadata": {},
   "outputs": [],
   "source": [
    "# data_viz(sonar_data[:,3], sonar_data[:,2], sonar_label)\n",
    "# (train_data, train_label), (test_data, test_label) = data_partition(iris_data, iris_label)"
   ]
  },
  {
   "cell_type": "code",
   "metadata": {},
   "outputs": [],
   "source": [
    "# Dataset selection\n",
    "(train_data, train_label), (test_data, test_label) = data_partition(pima_data, pima_label, test_ratio = 0.3)\n",
    "\n",
    "# For mnist only\n",
    "train_data = mnist_data_train_flatten\n",
    "train_label = mnist_label_train\n",
    "test_data = mnist_data_test_flatten\n",
    "test_label = mnist_label_test"
   ]
  },
  {
   "cell_type": "code",
   "metadata": {},
   "outputs": [],
   "source": [
    "# Import model\n",
    "import sys\n",
    "sys.path.append(\"./models\")\n",
    "from models.perceptron import perceptron, perceptron_dual\n",
    "from models.knn import knn_classifier\n",
    "\n",
    "# Initialize model\n",
    "\n",
    "# Perceptrons\n",
    "# target_label = 1\n",
    "# percep = perceptron(train_data[0, :], target_label = target_label)\n",
    "# percep_dual = perceptron_dual(train_data[0, :], target_label = target_label)\n",
    "\n",
    "# KNN\n",
    "knn = knn_classifier(k=5)"
   ]
  },
  {
   "cell_type": "code",
   "metadata": {},
   "outputs": [],
   "source": [
    "# General model calling\n",
    "# Models are defined as classes\n",
    "# Currently no batch ops\n",
    "\n",
    "loss_step = 100\n",
    "epochs = 10\n",
    "\n",
    "\n",
    "# percep.config(0.0003)\n",
    "# percep_dual.config(0.0003)\n",
    "\n",
    "# Train on normal perceptron model\n",
    "# for _ in trange(epochs, desc=\"Epoch\"):\n",
    "# percep.train(train_data, train_label, print_loss=True)\n",
    "\n",
    "# Dual of perceptron\n",
    "# percep_dual.train(train_data, train_label)\n",
    "\n",
    "# KNN Classifier\n",
    "knn.train(train_data, train_label)"
   ]
  },
  {
   "cell_type": "code",
   "metadata": {},
   "outputs": [],
   "source": [
    "# Evaluate\n",
    "# percep.evaluate(test_data, test_label)\n",
    "knn.config(k=2000)\n",
    "knn.evaluate(test_data, test_label)"
   ]
  },
  {
   "cell_type": "code",
   "metadata": {},
   "outputs": [],
   "source": [
    "# Predict\n",
    "size = test_data.shape[0]\n",
    "index = np.random.randint(0, size)\n",
    "data = test_data[index]\n",
    "label = test_label[index]\n",
    "# label = percep.label_rectifier(label)\n",
    "# print(\"Prediction: {}\\t True Label: {}\".format(percep.predict(data)[0], label))\n",
    "# print(data)\n",
    "print(label)\n",
    "print(\"Prediction: {}\\t True Label: {}\".format(knn.predict(data), label))\n"
   ]
  },
  {
   "cell_type": "code",
   "metadata": {},
   "outputs": [],
   "source": [
    "# Plot mnist\n",
    "plt.imshow(test_data[index].reshape((28, 28)))"
   ]
  }
 ],
 "metadata": {
  "file_extension": ".py",
  "kernelspec": {
   "display_name": "Python 3",
   "language": "python",
   "name": "python3"
  },
  "language_info": {
   "codemirror_mode": {
    "name": "ipython",
    "version": 3
   },
   "file_extension": ".py",
   "mimetype": "text/x-python",
   "name": "python",
   "nbconvert_exporter": "python",
   "pygments_lexer": "ipython3",
   "version": "3.6.8"
  },
  "mimetype": "text/x-python",
  "name": "python",
  "npconvert_exporter": "python",
  "pygments_lexer": "ipython3",
  "version": 3
 },
 "nbformat": 4,
 "nbformat_minor": 2
}