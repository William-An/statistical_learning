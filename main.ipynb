{
 "nbformat": 4,
 "nbformat_minor": 2,
 "metadata": {
  "language_info": {
   "name": "python",
   "codemirror_mode": {
    "name": "ipython",
    "version": 3
   },
   "version": "3.6.8"
  },
  "orig_nbformat": 2,
  "file_extension": ".py",
  "mimetype": "text/x-python",
  "name": "python",
  "npconvert_exporter": "python",
  "pygments_lexer": "ipython3",
  "version": 3
 },
 "cells": [
  {
   "cell_type": "code",
   "execution_count": 1,
   "metadata": {},
   "outputs": [],
   "source": [
    "# Necessary library\n",
    "import numpy as np\n",
    "# from tqdm.notebook import trange\n",
    "from tqdm import trange\n",
    "from matplotlib import pyplot as plt"
   ]
  },
  {
   "cell_type": "code",
   "execution_count": 2,
   "metadata": {},
   "outputs": [
    {
     "name": "stderr",
     "output_type": "stream",
     "text": "/Users/william/anaconda3/envs/machine-poet/lib/python3.6/site-packages/h5py/__init__.py:36: FutureWarning: Conversion of the second argument of issubdtype from `float` to `np.floating` is deprecated. In future, it will be treated as `np.float64 == np.dtype(float).type`.\n  from ._conv import register_converters as _register_converters\nUsing TensorFlow backend.\n/Users/william/anaconda3/envs/machine-poet/lib/python3.6/site-packages/tensorflow/python/framework/dtypes.py:519: FutureWarning: Passing (type, 1) or '1type' as a synonym of type is deprecated; in a future version of numpy, it will be understood as (type, (1,)) / '(1,)type'.\n  _np_qint8 = np.dtype([(\"qint8\", np.int8, 1)])\n/Users/william/anaconda3/envs/machine-poet/lib/python3.6/site-packages/tensorflow/python/framework/dtypes.py:520: FutureWarning: Passing (type, 1) or '1type' as a synonym of type is deprecated; in a future version of numpy, it will be understood as (type, (1,)) / '(1,)type'.\n  _np_quint8 = np.dtype([(\"quint8\", np.uint8, 1)])\n/Users/william/anaconda3/envs/machine-poet/lib/python3.6/site-packages/tensorflow/python/framework/dtypes.py:521: FutureWarning: Passing (type, 1) or '1type' as a synonym of type is deprecated; in a future version of numpy, it will be understood as (type, (1,)) / '(1,)type'.\n  _np_qint16 = np.dtype([(\"qint16\", np.int16, 1)])\n/Users/william/anaconda3/envs/machine-poet/lib/python3.6/site-packages/tensorflow/python/framework/dtypes.py:522: FutureWarning: Passing (type, 1) or '1type' as a synonym of type is deprecated; in a future version of numpy, it will be understood as (type, (1,)) / '(1,)type'.\n  _np_quint16 = np.dtype([(\"quint16\", np.uint16, 1)])\n/Users/william/anaconda3/envs/machine-poet/lib/python3.6/site-packages/tensorflow/python/framework/dtypes.py:523: FutureWarning: Passing (type, 1) or '1type' as a synonym of type is deprecated; in a future version of numpy, it will be understood as (type, (1,)) / '(1,)type'.\n  _np_qint32 = np.dtype([(\"qint32\", np.int32, 1)])\n/Users/william/anaconda3/envs/machine-poet/lib/python3.6/site-packages/tensorflow/python/framework/dtypes.py:528: FutureWarning: Passing (type, 1) or '1type' as a synonym of type is deprecated; in a future version of numpy, it will be understood as (type, (1,)) / '(1,)type'.\n  np_resource = np.dtype([(\"resource\", np.ubyte, 1)])\n"
    }
   ],
   "source": [
    "# Import datasets\n",
    "datasets_dir = \"./datasets/\"\n",
    "\n",
    "# MNIST\n",
    "from keras.datasets import mnist\n",
    "(mnist_data_train, mnist_label_train), (mnist_data_test, mnist_label_test) = mnist.load_data()\n",
    "\n",
    "# Iris\n",
    "iris_label_mapping = {\"Iris-setosa\": 0, \"Iris-versicolor\": 1, \"Iris-virginica\": 2}\n",
    "iris = np.genfromtxt(datasets_dir + \"iris.csv\", delimiter = \",\", converters = {-1 : lambda label : iris_label_mapping[label.decode()]})\n",
    "iris_label = iris[:, -1]\n",
    "iris_data = iris[:, 0:-1]\n",
    "\n",
    "# Pima\n",
    "pima = np.genfromtxt(datasets_dir + \"pima-indians-diabetes.csv\", delimiter = \",\")\n",
    "pima_label = pima[:, -1]\n",
    "pima_data = pima[:, :-1]\n",
    "\n",
    "# Sonar\n",
    "sonar_mapping = {\"R\": 0, \"M\": 1}\n",
    "sonar = np.genfromtxt(datasets_dir + \"sonar.csv\", delimiter = \",\", converters = {-1 : lambda label : sonar_mapping[label.decode()]})\n",
    "sonar_label = sonar[:, -1]\n",
    "sonar_data = sonar[:, :-1]"
   ]
  },
  {
   "cell_type": "code",
   "execution_count": 98,
   "metadata": {},
   "outputs": [
    {
     "data": {
      "text/plain": "(10000, 784)"
     },
     "execution_count": 98,
     "metadata": {},
     "output_type": "execute_result"
    }
   ],
   "source": [
    "# Flatten MNIST\n",
    "mnist_data_train_flatten = mnist_data_train.reshape((mnist_data_train.shape[0], -1))\n",
    "mnist_data_test_flatten = mnist_data_test.reshape((mnist_data_test.shape[0], -1))"
   ]
  },
  {
   "cell_type": "code",
   "execution_count": 3,
   "metadata": {},
   "outputs": [],
   "source": [
    "# Utility functions\n",
    "\n",
    "# Visulization of dataset\n",
    "def data_viz(x, y, label=[0]):\n",
    "    color_strings = ['#1f77b4', '#ff7f0e', '#2ca02c', '#d62728', '#9467bd', '#8c564b', '#e377c2', '#7f7f7f', '#bcbd22', '#17becf']\n",
    "    plt.scatter(x, y, c = [color_strings[int(i)] for i in label])\n",
    "\n",
    "# Dataset partition for train and test data\n",
    "def data_partition(data, label, test_ratio = 0.3):\n",
    "    numRows = data.shape[0]\n",
    "    cutoff = int(numRows * (1 - 0.3))\n",
    "    dataset = np.concatenate((data, label.reshape(len(label), 1)), axis = 1)\n",
    "    np.random.shuffle(dataset)\n",
    "    train_data, test_data = dataset[:cutoff, :-1], dataset[cutoff:, :-1]\n",
    "    train_label, test_label = dataset[:cutoff, -1], dataset[cutoff:, -1]\n",
    "    return (train_data, train_label), (test_data, test_label)\n"
   ]
  },
  {
   "cell_type": "code",
   "execution_count": 4,
   "metadata": {},
   "outputs": [
    {
     "data": {
      "text/plain": "'\\ndata_viz(sonar_data[:,3], sonar_data[:,2], sonar_label)\\n(train_data, train_label), (test_data, test_label) = data_partition(iris_data, iris_label)\\n'"
     },
     "execution_count": 4,
     "metadata": {},
     "output_type": "execute_result"
    }
   ],
   "source": [
    "\"\"\"\n",
    "data_viz(sonar_data[:,3], sonar_data[:,2], sonar_label)\n",
    "(train_data, train_label), (test_data, test_label) = data_partition(iris_data, iris_label)\n",
    "\"\"\""
   ]
  },
  {
   "cell_type": "code",
   "execution_count": 99,
   "metadata": {},
   "outputs": [],
   "source": [
    "# Dataset selection\n",
    "(train_data, train_label), (test_data, test_label) = data_partition(pima_data, pima_label, test_ratio = 0.3)\n",
    "\n",
    "# For mnist only\n",
    "train_data = mnist_data_train_flatten\n",
    "train_label = mnist_label_train\n",
    "test_data = mnist_data_test_flatten\n",
    "test_label = mnist_label_test"
   ]
  },
  {
   "cell_type": "code",
   "execution_count": 123,
   "metadata": {},
   "outputs": [],
   "source": [
    "# Import model\n",
    "import sys\n",
    "sys.path.append(\"./models\")\n",
    "from models.perceptron import perceptron\n",
    "\n",
    "# Initialize model\n",
    "target_label = 3\n",
    "model = perceptron(train_data[0, :], target_label = target_label)"
   ]
  },
  {
   "cell_type": "code",
   "execution_count": 124,
   "metadata": {},
   "outputs": [
    {
     "name": "stderr",
     "output_type": "stream",
     "text": "32<00:33, 790.14it/s]Epoch: 10\tLoss: 34.81998496124655\tStep: 33200\nEpoch: 10\tLoss: 34.81548691962856\tStep: 33300\nTraining steps:  56%|█████▌    | 33680/60000 [00:32<00:25, 1021.65it/s]Epoch: 10\tLoss: 34.8269241966525\tStep: 33400\nEpoch: 10\tLoss: 34.8239602275105\tStep: 33500\nEpoch: 10\tLoss: 34.82077979016261\tStep: 33600\nEpoch: 10\tLoss: 34.818041980716465\tStep: 33700\nTraining steps:  57%|█████▋    | 34036/60000 [00:33<00:19, 1304.56it/s]Epoch: 10\tLoss: 34.81855604376084\tStep: 33800\nEpoch: 10\tLoss: 34.81313184005417\tStep: 33900\nEpoch: 10\tLoss: 34.81002029624067\tStep: 34000\nEpoch: 10\tLoss: 34.810487124261556\tStep: 34100\nTraining steps:  57%|█████▋    | 34411/60000 [00:33<00:16, 1542.26it/s]Epoch: 10\tLoss: 34.811265207915504\tStep: 34200\nEpoch: 10\tLoss: 34.81165419716296\tStep: 34300\nEpoch: 10\tLoss: 34.80749005011615\tStep: 34400\nEpoch: 10\tLoss: 34.810585977647406\tStep: 34500\nTraining steps:  58%|█████▊    | 34725/60000 [00:33<00:23, 1093.73it/s]Epoch: 10\tLoss: 34.8136865611634\tStep: 34600\nEpoch: 10\tLoss: 34.81396841665045\tStep: 34700\nTraining steps:  58%|█████▊    | 34964/60000 [00:33<00:27, 921.17it/s]Epoch: 10\tLoss: 34.81527517352557\tStep: 34800\nEpoch: 10\tLoss: 34.814542011276885\tStep: 34900\nTraining steps:  59%|█████▊    | 35162/60000 [00:34<00:29, 841.92it/s]Epoch: 10\tLoss: 34.81280273821475\tStep: 35000\nEpoch: 10\tLoss: 34.80726027702409\tStep: 35100\nTraining steps:  59%|█████▉    | 35338/60000 [00:34<00:30, 811.33it/s]Epoch: 10\tLoss: 34.80545648949734\tStep: 35200\nEpoch: 10\tLoss: 34.8026710093756\tStep: 35300\nTraining steps:  59%|█████▉    | 35514/60000 [00:34<00:31, 784.92it/s]Epoch: 10\tLoss: 34.79662259956657\tStep: 35400\nEpoch: 10\tLoss: 34.79257802486426\tStep: 35500\nEpoch: 10\tLoss: 34.788580689838966\tStep: 35600\nTraining steps:  60%|█████▉    | 35881/60000 [00:34<00:21, 1105.26it/s]Epoch: 10\tLoss: 34.7919597116228\tStep: 35700\nEpoch: 10\tLoss: 34.79043997614955\tStep: 35800\nEpoch: 10\tLoss: 34.79180311768836\tStep: 35900\nEpoch: 10\tLoss: 34.7937296981624\tStep: 36000\nTraining steps:  60%|██████    | 36160/60000 [00:35<00:22, 1037.98it/s]Epoch: 10\tLoss: 34.78911654107214\tStep: 36100\nEpoch: 10\tLoss: 34.792505128823166\tStep: 36200\nTraining steps:  61%|██████    | 36387/60000 [00:35<00:26, 893.60it/s]Epoch: 10\tLoss: 34.788216072086875\tStep: 36300\nEpoch: 10\tLoss: 34.78573856563951\tStep: 36400\nTraining steps:  61%|██████    | 36578/60000 [00:35<00:28, 821.20it/s]Epoch: 10\tLoss: 34.78990887288113\tStep: 36500\nEpoch: 10\tLoss: 34.78897883755031\tStep: 36600\nTraining steps:  61%|██████▏   | 36834/60000 [00:36<00:29, 792.98it/s]Epoch: 10\tLoss: 34.783640290919145\tStep: 36700\nEpoch: 10\tLoss: 34.77782069659119\tStep: 36800\nTraining steps:  62%|██████▏   | 36996/60000 [00:36<00:29, 789.74it/s]Epoch: 10\tLoss: 34.78385128037431\tStep: 36900\nEpoch: 10\tLoss: 34.78206974988318\tStep: 37000\nTraining steps:  62%|██████▏   | 37234/60000 [00:36<00:29, 777.50it/s]Epoch: 10\tLoss: 34.7848941232488\tStep: 37100\nEpoch: 10\tLoss: 34.79774243446783\tStep: 37200\nTraining steps:  62%|██████▏   | 37394/60000 [00:36<00:28, 782.94it/s]Epoch: 10\tLoss: 34.79706197950656\tStep: 37300\nEpoch: 10\tLoss: 34.82201978637567\tStep: 37400\nTraining steps:  63%|██████▎   | 37755/60000 [00:37<00:22, 979.62it/s]Epoch: 10\tLoss: 34.82497017867839\tStep: 37500\nEpoch: 10\tLoss: 34.824627494047185\tStep: 37600\nEpoch: 10\tLoss: 34.825479105675974\tStep: 37700\nEpoch: 10\tLoss: 34.81945187158788\tStep: 37800\nTraining steps:  64%|██████▎   | 38105/60000 [00:37<00:17, 1261.22it/s]Epoch: 10\tLoss: 34.813426723401584\tStep: 37900\nEpoch: 10\tLoss: 34.81779195008782\tStep: 38000\nEpoch: 10\tLoss: 34.81257291925323\tStep: 38100\nEpoch: 10\tLoss: 34.80862704328958\tStep: 38200\nTraining steps:  64%|██████▍   | 38489/60000 [00:37<00:14, 1523.46it/s]Epoch: 10\tLoss: 34.80644403480031\tStep: 38300\nEpoch: 10\tLoss: 34.805599672534896\tStep: 38400\nEpoch: 10\tLoss: 34.799583167894895\tStep: 38500\nTraining steps:  64%|██████▍   | 38658/60000 [00:37<00:16, 1301.09it/s]Epoch: 10\tLoss: 34.79810165441925\tStep: 38600\nEpoch: 10\tLoss: 34.798516472847176\tStep: 38700\nTraining steps:  65%|██████▍   | 38932/60000 [00:37<00:21, 984.64it/s]Epoch: 10\tLoss: 34.7984498381524\tStep: 38800\nEpoch: 10\tLoss: 34.79321690088323\tStep: 38900\nTraining steps:  65%|██████▌   | 39147/60000 [00:38<00:24, 856.58it/s]Epoch: 10\tLoss: 34.78879833009264\tStep: 39000\nEpoch: 10\tLoss: 34.78615590389974\tStep: 39100\nTraining steps:  66%|██████▌   | 39332/60000 [00:38<00:25, 816.18it/s]Epoch: 10\tLoss: 34.78890660443639\tStep: 39200\nEpoch: 10\tLoss: 34.788396970444964\tStep: 39300\nTraining steps:  66%|██████▌   | 39501/60000 [00:38<00:25, 795.07it/s]Epoch: 10\tLoss: 34.797881275860824\tStep: 39400\nEpoch: 10\tLoss: 34.7930420003981\tStep: 39500\nTraining steps:  67%|██████▋   | 39938/60000 [00:38<00:18, 1104.14it/s]Epoch: 10\tLoss: 34.787039080808384\tStep: 39600\nEpoch: 10\tLoss: 34.78103823225502\tStep: 39700\nEpoch: 10\tLoss: 34.77658741625785\tStep: 39800\nEpoch: 10\tLoss: 34.7723928752843\tStep: 39900\nTraining steps:  67%|██████▋   | 40098/60000 [00:39<00:16, 1217.15it/s]Epoch: 10\tLoss: 34.774320583967075\tStep: 40000\nEpoch: 10\tLoss: 34.773664278342864\tStep: 40100\nEpoch: 10\tLoss: 34.773076323576674\tStep: 40200\nTraining steps:  67%|██████▋   | 40360/60000 [00:39<00:20, 951.53it/s]Epoch: 10\tLoss: 34.76708408568613\tStep: 40300\nEpoch: 10\tLoss: 34.76528580341684\tStep: 40400\nTraining steps:  68%|██████▊   | 40568/60000 [00:39<00:23, 844.16it/s]Epoch: 10\tLoss: 34.762519282283215\tStep: 40500\nEpoch: 10\tLoss: 34.75830706961905\tStep: 40600\nTraining steps:  68%|██████▊   | 40831/60000 [00:40<00:24, 794.15it/s]Epoch: 10\tLoss: 34.75804091188116\tStep: 40700\nEpoch: 10\tLoss: 34.761297588378966\tStep: 40800\nTraining steps:  68%|██████▊   | 40995/60000 [00:40<00:24, 783.28it/s]Epoch: 10\tLoss: 34.76475439444514\tStep: 40900\nEpoch: 10\tLoss: 34.75888228770007\tStep: 41000\nTraining steps:  69%|██████▊   | 41233/60000 [00:40<00:24, 762.08it/s]Epoch: 10\tLoss: 34.75496758220459\tStep: 41100\nEpoch: 10\tLoss: 34.752929492135536\tStep: 41200\nTraining steps:  69%|██████▉   | 41386/60000 [00:40<00:24, 748.51it/s]Epoch: 10\tLoss: 34.76568541234296\tStep: 41300\nEpoch: 10\tLoss: 34.76590122033217\tStep: 41400\nTraining steps:  69%|██████▉   | 41614/60000 [00:41<00:24, 747.71it/s]Epoch: 10\tLoss: 34.77392826460824\tStep: 41500\nEpoch: 10\tLoss: 34.78380163128823\tStep: 41600\nTraining steps:  70%|██████▉   | 41934/60000 [00:41<00:17, 1026.31it/s]Epoch: 10\tLoss: 34.78458067864111\tStep: 41700\nEpoch: 10\tLoss: 34.78934741215038\tStep: 41800\nEpoch: 10\tLoss: 34.78989585526637\tStep: 41900\nEpoch: 10\tLoss: 34.78986848189984\tStep: 42000\nTraining steps:  70%|███████   | 42274/60000 [00:41<00:13, 1277.39it/s]Epoch: 10\tLoss: 34.7886456229375\tStep: 42100\nEpoch: 10\tLoss: 34.79255844924557\tStep: 42200\nEpoch: 10\tLoss: 34.79152289289165\tStep: 42300\nEpoch: 10\tLoss: 34.78716606793449\tStep: 42400\nTraining steps:  71%|███████   | 42653/60000 [00:41<00:11, 1524.74it/s]Epoch: 10\tLoss: 34.792467235649625\tStep: 42500\nEpoch: 10\tLoss: 34.793799599113214\tStep: 42600\nEpoch: 10\tLoss: 34.797696441444145\tStep: 42700\nTraining steps:  72%|███████▏  | 42960/60000 [00:42<00:16, 1035.34it/s]Epoch: 10\tLoss: 34.79410646792315\tStep: 42800\nEpoch: 10\tLoss: 34.79036369229884\tStep: 42900\nTraining steps:  72%|███████▏  | 43082/60000 [00:42<00:18, 924.32it/s]Epoch: 10\tLoss: 34.791823225128134\tStep: 43000\nEpoch: 10\tLoss: 34.789906940039074\tStep: 43100\nTraining steps:  72%|███████▏  | 43287/60000 [00:42<00:20, 822.75it/s]Epoch: 10\tLoss: 34.792032194717294\tStep: 43200\nEpoch: 10\tLoss: 34.799575621618935\tStep: 43300\nTraining steps:  73%|███████▎  | 43549/60000 [00:42<00:20, 787.93it/s]Epoch: 10\tLoss: 34.793617250971174\tStep: 43400\nEpoch: 10\tLoss: 34.78781495447671\tStep: 43500\nTraining steps:  73%|███████▎  | 43737/60000 [00:43<00:19, 847.65it/s]Epoch: 10\tLoss: 34.795669794918055\tStep: 43600\nEpoch: 10\tLoss: 34.79944966614412\tStep: 43700\nEpoch: 10\tLoss: 34.807874465652965\tStep: 43800\nTraining steps:  74%|███████▎  | 44101/60000 [00:43<00:13, 1163.55it/s]Epoch: 10\tLoss: 34.808960944111156\tStep: 43900\nEpoch: 10\tLoss: 34.805759693417336\tStep: 44000\nEpoch: 10\tLoss: 34.801333787084744\tStep: 44100\nEpoch: 10\tLoss: 34.79773955187867\tStep: 44200\nTraining steps:  74%|███████▍  | 44368/60000 [00:43<00:15, 1004.66it/s]Epoch: 10\tLoss: 34.79595737474094\tStep: 44300\nEpoch: 10\tLoss: 34.80428455231816\tStep: 44400\nTraining steps:  74%|███████▍  | 44586/60000 [00:43<00:17, 878.09it/s]Epoch: 10\tLoss: 34.81641269064165\tStep: 44500\nEpoch: 10\tLoss: 34.812549376555225\tStep: 44600\nTraining steps:  75%|███████▍  | 44773/60000 [00:44<00:18, 810.35it/s]Epoch: 10\tLoss: 34.811313008502765\tStep: 44700\nEpoch: 10\tLoss: 34.81265487388814\tStep: 44800\nTraining steps:  75%|███████▌  | 45024/60000 [00:44<00:19, 786.98it/s]Epoch: 10\tLoss: 34.8154160858054\tStep: 44900\nEpoch: 10\tLoss: 34.82834385562285\tStep: 45000\nTraining steps:  75%|███████▌  | 45185/60000 [00:44<00:19, 773.85it/s]Epoch: 10\tLoss: 34.83494727472434\tStep: 45100\nEpoch: 10\tLoss: 34.83247394256366\tStep: 45200\nTraining steps:  76%|███████▌  | 45420/60000 [00:44<00:19, 766.03it/s]Epoch: 10\tLoss: 34.83016347081077\tStep: 45300\nEpoch: 10\tLoss: 34.82719284342854\tStep: 45400\nTraining steps:  76%|███████▌  | 45651/60000 [00:45<00:19, 753.61it/s]Epoch: 10\tLoss: 34.82205566177257\tStep: 45500\nEpoch: 10\tLoss: 34.81974312265895\tStep: 45600\nTraining steps:  76%|███████▋  | 45899/60000 [00:45<00:15, 902.05it/s]Epoch: 10\tLoss: 34.81988860879771\tStep: 45700\nEpoch: 10\tLoss: 34.814404558468055\tStep: 45800\nEpoch: 10\tLoss: 34.82256647143202\tStep: 45900\nEpoch: 10\tLoss: 34.82935374680107\tStep: 46000\nTraining steps:  77%|███████▋  | 46430/60000 [00:45<00:10, 1330.76it/s]Epoch: 10\tLoss: 34.82773801671406\tStep: 46100\nEpoch: 10\tLoss: 34.83112685019559\tStep: 46200\nEpoch: 10\tLoss: 34.8433079095861\tStep: 46300\nEpoch: 10\tLoss: 34.84288114417843\tStep: 46400\nTraining steps:  78%|███████▊  | 46768/60000 [00:45<00:09, 1462.94it/s]Epoch: 10\tLoss: 34.844159461536265\tStep: 46500\nEpoch: 10\tLoss: 34.83949736678436\tStep: 46600\nEpoch: 10\tLoss: 34.83987759737001\tStep: 46700\nTraining steps:  78%|███████▊  | 46926/60000 [00:46<00:11, 1155.29it/s]Epoch: 10\tLoss: 34.83408922534004\tStep: 46800\nEpoch: 10\tLoss: 34.83345307598546\tStep: 46900\nTraining steps:  78%|███████▊  | 47060/60000 [00:46<00:12, 1002.33it/s]Epoch: 10\tLoss: 34.831355474291534\tStep: 47000\nEpoch: 10\tLoss: 34.82542271380455\tStep: 47100\nTraining steps:  79%|███████▉  | 47282/60000 [00:46<00:14, 850.75it/s]Epoch: 10\tLoss: 34.82143173026235\tStep: 47200\nEpoch: 10\tLoss: 34.81969430005411\tStep: 47300\nTraining steps:  79%|███████▉  | 47466/60000 [00:46<00:15, 800.49it/s]Epoch: 10\tLoss: 34.82079392644721\tStep: 47400\nEpoch: 10\tLoss: 34.818952538861524\tStep: 47500\nTraining steps:  80%|███████▉  | 47705/60000 [00:47<00:17, 721.38it/s]Epoch: 10\tLoss: 34.824595947988016\tStep: 47600\nEpoch: 10\tLoss: 34.82745334841851\tStep: 47700\nTraining steps:  80%|████████  | 48148/60000 [00:47<00:11, 1027.87it/s]Epoch: 10\tLoss: 34.831591588204084\tStep: 47800\nEpoch: 10\tLoss: 34.83003565985511\tStep: 47900\nEpoch: 10\tLoss: 34.83897930844569\tStep: 48000\nEpoch: 10\tLoss: 34.838966285550185\tStep: 48100\nTraining steps:  80%|████████  | 48293/60000 [00:47<00:10, 1125.78it/s]Epoch: 10\tLoss: 34.83669266313334\tStep: 48200\nEpoch: 10\tLoss: 34.83330423844904\tStep: 48300\nTraining steps:  81%|████████  | 48427/60000 [00:47<00:12, 947.08it/s]Epoch: 10\tLoss: 34.83657913700651\tStep: 48400\nEpoch: 10\tLoss: 34.83556144943686\tStep: 48500\nTraining steps:  81%|████████  | 48736/60000 [00:48<00:14, 789.84it/s]Epoch: 10\tLoss: 34.83806265502388\tStep: 48600\nEpoch: 10\tLoss: 34.8413523794737\tStep: 48700\nTraining steps:  82%|████████▏ | 48906/60000 [00:48<00:14, 748.73it/s]Epoch: 10\tLoss: 34.83731351577461\tStep: 48800\nEpoch: 10\tLoss: 34.83436630210124\tStep: 48900\nTraining steps:  82%|████████▏ | 49139/60000 [00:48<00:14, 728.58it/s]Epoch: 10\tLoss: 34.83071247249631\tStep: 49000\nEpoch: 10\tLoss: 34.824799962867665\tStep: 49100\nTraining steps:  82%|████████▏ | 49291/60000 [00:49<00:14, 736.66it/s]Epoch: 10\tLoss: 34.81948759635647\tStep: 49200\nEpoch: 10\tLoss: 34.81897906209405\tStep: 49300\nTraining steps:  83%|████████▎ | 49518/60000 [00:49<00:14, 742.45it/s]Epoch: 10\tLoss: 34.81514800944164\tStep: 49400\nEpoch: 10\tLoss: 34.81116435171668\tStep: 49500\nTraining steps:  83%|████████▎ | 49741/60000 [00:49<00:14, 727.38it/s]Epoch: 10\tLoss: 34.81171015625062\tStep: 49600\nEpoch: 10\tLoss: 34.8157849848956\tStep: 49700\nTraining steps:  83%|████████▎ | 49923/60000 [00:49<00:12, 799.52it/s]Epoch: 10\tLoss: 34.80988202339583\tStep: 49800\nEpoch: 10\tLoss: 34.82322238665191\tStep: 49900\nEpoch: 10\tLoss: 34.83612767634795\tStep: 50000\nTraining steps:  84%|████████▍ | 50417/60000 [00:50<00:07, 1216.94it/s]Epoch: 10\tLoss: 34.839160626055104\tStep: 50100\nEpoch: 10\tLoss: 34.83866929515359\tStep: 50200\nEpoch: 10\tLoss: 34.84315367600601\tStep: 50300\nEpoch: 10\tLoss: 34.85627005188414\tStep: 50400\nTraining steps:  85%|████████▍ | 50766/60000 [00:50<00:06, 1436.59it/s]Epoch: 10\tLoss: 34.86807967537913\tStep: 50500\nEpoch: 10\tLoss: 34.870347810068786\tStep: 50600\nEpoch: 10\tLoss: 34.866171636614425\tStep: 50700\nEpoch: 10\tLoss: 34.86500508004749\tStep: 50800\nTraining steps:  85%|████████▍ | 50923/60000 [00:50<00:07, 1263.69it/s]Epoch: 10\tLoss: 34.86225960121379\tStep: 50900\nEpoch: 10\tLoss: 34.861405498890576\tStep: 51000\nTraining steps:  85%|████████▌ | 51183/60000 [00:50<00:09, 922.17it/s]Epoch: 10\tLoss: 34.86073628922684\tStep: 51100\nEpoch: 10\tLoss: 34.862618020339625\tStep: 51200\nTraining steps:  86%|████████▌ | 51385/60000 [00:51<00:10, 809.08it/s]Epoch: 10\tLoss: 34.85948338753039\tStep: 51300\nEpoch: 10\tLoss: 34.85799827481076\tStep: 51400\nTraining steps:  86%|████████▌ | 51558/60000 [00:51<00:11, 751.30it/s]Epoch: 10\tLoss: 34.85516323296386\tStep: 51500\nEpoch: 10\tLoss: 34.85291849812328\tStep: 51600\nTraining steps:  86%|████████▋ | 51782/60000 [00:51<00:12, 673.29it/s]Epoch: 10\tLoss: 34.85218526829576\tStep: 51700\nEpoch: 10\tLoss: 34.851062275629396\tStep: 51800\nTraining steps:  87%|████████▋ | 52120/60000 [00:52<00:08, 878.87it/s]Epoch: 10\tLoss: 34.8467580414579\tStep: 51900\nEpoch: 10\tLoss: 34.848182277888384\tStep: 52000\nEpoch: 10\tLoss: 34.85314878727124\tStep: 52100\nEpoch: 10\tLoss: 34.85554399326972\tStep: 52200\nTraining steps:  87%|████████▋ | 52405/60000 [00:52<00:07, 1017.70it/s]Epoch: 10\tLoss: 34.85486569011127\tStep: 52300\nEpoch: 10\tLoss: 34.8558326850688\tStep: 52400\nTraining steps:  88%|████████▊ | 52623/60000 [00:52<00:08, 846.22it/s]Epoch: 10\tLoss: 34.85373533445448\tStep: 52500\nEpoch: 10\tLoss: 34.8478538599852\tStep: 52600\nTraining steps:  88%|████████▊ | 52805/60000 [00:52<00:09, 780.89it/s]Epoch: 10\tLoss: 34.84841600613424\tStep: 52700\nEpoch: 10\tLoss: 34.85086953477755\tStep: 52800\nTraining steps:  88%|████████▊ | 53046/60000 [00:53<00:09, 748.88it/s]Epoch: 10\tLoss: 34.84965265962247\tStep: 52900\nEpoch: 10\tLoss: 34.8601534942966\tStep: 53000\nTraining steps:  89%|████████▊ | 53199/60000 [00:53<00:09, 744.81it/s]Epoch: 10\tLoss: 34.85868506468169\tStep: 53100\nEpoch: 10\tLoss: 34.866790222584115\tStep: 53200\nTraining steps:  89%|████████▉ | 53426/60000 [00:53<00:08, 738.08it/s]Epoch: 10\tLoss: 34.861345377514084\tStep: 53300\nEpoch: 10\tLoss: 34.85913740577173\tStep: 53400\nTraining steps:  89%|████████▉ | 53576/60000 [00:53<00:08, 739.65it/s]Epoch: 10\tLoss: 34.857554624256956\tStep: 53500\nEpoch: 10\tLoss: 34.865093287771685\tStep: 53600\nTraining steps:  90%|████████▉ | 53804/60000 [00:54<00:08, 749.99it/s]Epoch: 10\tLoss: 34.860760471149334\tStep: 53700\nEpoch: 10\tLoss: 34.855887002293805\tStep: 53800\nTraining steps:  90%|█████████ | 54118/60000 [00:54<00:06, 925.81it/s]Epoch: 10\tLoss: 34.85083353110002\tStep: 53900\nEpoch: 10\tLoss: 34.84886962057892\tStep: 54000\nEpoch: 10\tLoss: 34.84789668749624\tStep: 54100\nTraining steps:  91%|█████████ | 54447/60000 [00:54<00:04, 1188.25it/s]Epoch: 10\tLoss: 34.845249219199694\tStep: 54200\nEpoch: 10\tLoss: 34.84865894060041\tStep: 54300\nEpoch: 10\tLoss: 34.851689285630336\tStep: 54400\nEpoch: 10\tLoss: 34.858142397846756\tStep: 54500\nTraining steps:  91%|█████████▏| 54803/60000 [00:54<00:03, 1428.52it/s]Epoch: 10\tLoss: 34.85539997954295\tStep: 54600\nEpoch: 10\tLoss: 34.85129128323955\tStep: 54700\nEpoch: 10\tLoss: 34.85497985277153\tStep: 54800\nEpoch: 10\tLoss: 34.85369012177063\tStep: 54900\nTraining steps:  92%|█████████▏| 55113/60000 [00:55<00:04, 1148.46it/s]Epoch: 10\tLoss: 34.861102463081\tStep: 55000\nEpoch: 10\tLoss: 34.86107336878192\tStep: 55100\nTraining steps:  92%|█████████▏| 55244/60000 [00:55<00:04, 986.07it/s]Epoch: 10\tLoss: 34.86448281208604\tStep: 55200\nEpoch: 10\tLoss: 34.859574003942676\tStep: 55300\nTraining steps:  92%|█████████▏| 55461/60000 [00:55<00:05, 834.18it/s]Epoch: 10\tLoss: 34.85672201167243\tStep: 55400\nEpoch: 10\tLoss: 34.85896830024059\tStep: 55500\nTraining steps:  93%|█████████▎| 55725/60000 [00:56<00:05, 767.79it/s]Epoch: 10\tLoss: 34.859495617781405\tStep: 55600\nEpoch: 10\tLoss: 34.85843430264688\tStep: 55700\nTraining steps:  93%|█████████▎| 55885/60000 [00:56<00:05, 759.77it/s]Epoch: 10\tLoss: 34.858290642072014\tStep: 55800\nEpoch: 10\tLoss: 34.85575740003018\tStep: 55900\nTraining steps:  94%|█████████▍| 56291/60000 [00:56<00:03, 1046.76it/s]Epoch: 10\tLoss: 34.854735714678874\tStep: 56000\nEpoch: 10\tLoss: 34.84948171087399\tStep: 56100\nEpoch: 10\tLoss: 34.846713744276585\tStep: 56200\nEpoch: 10\tLoss: 34.85348405382211\tStep: 56300\nTraining steps:  94%|█████████▍| 56465/60000 [00:56<00:02, 1188.68it/s]Epoch: 10\tLoss: 34.855097485796676\tStep: 56400\nEpoch: 10\tLoss: 34.864530878128775\tStep: 56500\nTraining steps:  95%|█████████▍| 56724/60000 [00:56<00:03, 916.95it/s]Epoch: 10\tLoss: 34.860720003318086\tStep: 56600\nEpoch: 10\tLoss: 34.85809083416198\tStep: 56700\nTraining steps:  95%|█████████▍| 56928/60000 [00:57<00:03, 824.17it/s]Epoch: 10\tLoss: 34.85225002082118\tStep: 56800\nEpoch: 10\tLoss: 34.84915426352672\tStep: 56900\nTraining steps:  95%|█████████▌| 57103/60000 [00:57<00:03, 763.60it/s]Epoch: 10\tLoss: 34.84503488819313\tStep: 57000\nEpoch: 10\tLoss: 34.840359473179845\tStep: 57100\nTraining steps:  95%|█████████▌| 57263/60000 [00:57<00:03, 722.06it/s]Epoch: 10\tLoss: 34.83671327427138\tStep: 57200\nEpoch: 10\tLoss: 34.83462832064652\tStep: 57300\nTraining steps:  96%|█████████▌| 57494/60000 [00:58<00:03, 732.51it/s]Epoch: 10\tLoss: 34.835126218055215\tStep: 57400\nEpoch: 10\tLoss: 34.832947194955445\tStep: 57500\nTraining steps:  96%|█████████▌| 57723/60000 [00:58<00:03, 747.46it/s]Epoch: 10\tLoss: 34.83004094486637\tStep: 57600\nEpoch: 10\tLoss: 34.82927319529533\tStep: 57700\nTraining steps:  97%|█████████▋| 57958/60000 [00:58<00:02, 765.86it/s]Epoch: 10\tLoss: 34.8250646134148\tStep: 57800\nEpoch: 10\tLoss: 34.82073120366901\tStep: 57900\nTraining steps:  97%|█████████▋| 58220/60000 [00:58<00:01, 957.76it/s]Epoch: 10\tLoss: 34.81560477836796\tStep: 58000\nEpoch: 10\tLoss: 34.81207995067297\tStep: 58100\nEpoch: 10\tLoss: 34.80749999293147\tStep: 58200\nEpoch: 10\tLoss: 34.80602062407831\tStep: 58300\nTraining steps:  98%|█████████▊| 58736/60000 [00:59<00:00, 1354.69it/s]Epoch: 10\tLoss: 34.803593303248775\tStep: 58400\nEpoch: 10\tLoss: 34.79794174115209\tStep: 58500\nEpoch: 10\tLoss: 34.79212853943523\tStep: 58600\nEpoch: 10\tLoss: 34.78911530000033\tStep: 58700\nTraining steps:  98%|█████████▊| 59093/60000 [00:59<00:00, 1441.84it/s]Epoch: 10\tLoss: 34.783305513910776\tStep: 58800\nEpoch: 10\tLoss: 34.794203595575965\tStep: 58900\nEpoch: 10\tLoss: 34.78999609607843\tStep: 59000\nEpoch: 10\tLoss: 34.78592432725936\tStep: 59100\nTraining steps:  99%|█████████▉| 59383/60000 [00:59<00:00, 1098.05it/s]Epoch: 10\tLoss: 34.78028598084165\tStep: 59200\nEpoch: 10\tLoss: 34.77707936016015\tStep: 59300\nTraining steps:  99%|█████████▉| 59505/60000 [00:59<00:00, 1011.04it/s]Epoch: 10\tLoss: 34.77647824085294\tStep: 59400\nEpoch: 10\tLoss: 34.7730392482359\tStep: 59500\nTraining steps: 100%|█████████▉| 59715/60000 [01:00<00:00, 852.19it/s]Epoch: 10\tLoss: 34.76748626095254\tStep: 59600\nEpoch: 10\tLoss: 34.76250513128738\tStep: 59700\nTraining steps: 100%|█████████▉| 59894/60000 [01:00<00:00, 811.25it/s]Epoch: 10\tLoss: 34.76009178194933\tStep: 59800\nEpoch: 10\tLoss: 34.75429748691748\tStep: 59900\nTraining steps: 100%|██████████| 60000/60000 [01:00<00:00, 991.35it/s]\n"
    }
   ],
   "source": [
    "# General model calling\n",
    "# Models are defined as classes\n",
    "# Currently no batch ops\n",
    "\n",
    "loss_step = 100\n",
    "epochs = 10\n",
    "\n",
    "\n",
    "model.config(0.0003)\n",
    "\n",
    "# Train\n",
    "for epoch in range(epochs):\n",
    "    for i in trange(train_data.shape[0], desc = \"Training steps\"):\n",
    "        # print(model.bias)\n",
    "        model.train(train_data[i], train_label[i])\n",
    "        if i % loss_step == 0:\n",
    "            # Print loss\n",
    "            print(\"Epoch: {}\\tLoss: {}\\tStep: {}\".format(epoch + 1, model.get_loss(), i))"
   ]
  },
  {
   "cell_type": "code",
   "execution_count": 125,
   "metadata": {},
   "outputs": [
    {
     "name": "stderr",
     "output_type": "stream",
     "text": "100%|██████████| 10000/10000 [00:00<00:00, 70886.25it/s]\nAccuracy: 93.79%\tCorrect: 9379\tIncorrect: 621\n\n"
    }
   ],
   "source": [
    "# Evaluate\n",
    "model.evaluate(test_data, test_label)"
   ]
  },
  {
   "cell_type": "code",
   "execution_count": 143,
   "metadata": {},
   "outputs": [
    {
     "name": "stdout",
     "output_type": "stream",
     "text": "Prediction: -1.0\t True Label: -1\n"
    }
   ],
   "source": [
    "# Predict\n",
    "size = test_data.shape[0]\n",
    "index = np.random.randint(0, size)\n",
    "label = test_label[index]\n",
    "label = 1 if label == target_label else -1\n",
    "print(\"Prediction: {}\\t True Label: {}\".format(model.predict(test_data[index])[0], label))"
   ]
  },
  {
   "cell_type": "code",
   "execution_count": 145,
   "metadata": {},
   "outputs": [
    {
     "data": {
      "text/plain": "<matplotlib.image.AxesImage at 0x12c39e0f0>"
     },
     "execution_count": 145,
     "metadata": {},
     "output_type": "execute_result"
    },
    {
     "data": {
      "image/png": "[encoded data removed]",
      "image/svg+xml": "<?xml version=\"1.0\" encoding=\"utf-8\" standalone=\"no\"?>\n<!DOCTYPE svg PUBLIC \"-//W3C//DTD SVG 1.1//EN\"\n  \"http://www.w3.org/Graphics/SVG/1.1/DTD/svg11.dtd\">\n<!-- Created with matplotlib (https://matplotlib.org/) -->\n<svg height=\"248.518125pt\" version=\"1.1\" viewBox=\"0 0 251.565 248.518125\" width=\"251.565pt\" xmlns=\"http://www.w3.org/2000/svg\" xmlns:xlink=\"http://www.w3.org/1999/xlink\">\n <defs>\n  <style type=\"text/css\">\n*{stroke-linecap:butt;stroke-linejoin:round;}\n  </style>\n </defs>\n <g id=\"figure_1\">\n  <g id=\"patch_1\">\n   <path d=\"M 0 248.518125 \nL 251.565 248.518125 \nL 251.565 0 \nL 0 0 \nz\n\" style=\"fill:none;\"/>\n  </g>\n  <g id=\"axes_1\">\n   <g id=\"patch_2\">\n    <path d=\"M 26.925 224.64 \nL 244.365 224.64 \nL 244.365 7.2 \nL 26.925 7.2 \nz\n\" style=\"fill:#ffffff;\"/>\n   </g>\n   <g clip-path=\"url(#pcacf4b3142)\">\n    <image height=\"218\" id=\"image75b7aa81a2\" transform=\"scale(1 -1)translate(0 -218)\" width=\"218\" x=\"26.925\" xlink:href=\"data:image/png;base64,\niVBORw0KGgoAAAANSUhEUgAAANoAAADaCAYAAADAHVzbAAAABHNCSVQICAgIfAhkiAAABMxJREFUeJzt3c1rXHUUx+HeprFNMQ1YCQ0pCNIIKhSVaqsiFA1VcVMh4qJrEVcuXNSdf0ERXFhEBOmiaDd1qYWguLGCCiWLKpWqLfgCCgapebFmXBdyT3Qm850pPs/25N65ED5zYH5M0sw2c50tQF9tHfQDwP+B0CBAaBAgNAgQGgQIDQKEBgFCgwChQYDQIEBoECA0CBAaBAgNAoQGAUKDAKFBgNAgQGgQIDQIEBoECA0Ctg36AW5Wv774cDn/8rWTXd975tRL5fzOVz/r+t4Mho0GAUKDAKFBgNAgQGgQIDQIEBoEOEfr0uT538v5Kz890Do7MfVVee3U/T939UwMLxsNAoQGAUKDAKFBgNAgQGgQIDQIcI7WpbULF8v5uSv3tA83OEc7On2hnH+0ZVc5Z/jYaBAgNAgQGgQIDQKEBgFCgwChQYBztD5ZuTjRPjxYX/vIzkvlfP6Oo+X8+g9X6xcgzkaDAKFBgNAgQGgQIDQIEBoECA0CnKP1ye6FTtfXHtoxUs6X902W823O0YaOjQYBQoMAoUGA0CBAaBAgNAjw8X6fjF9Zbp0tri2V105sHSvnl5+rP/6/a74cMwA2GgQIDQKEBgFCgwChQYDQIEBoENDMNnPdf5+Drjy+cK2cH99d/7m5D67dWs5Pzuz7z89Ef9loECA0CBAaBAgNAoQGAUKDAKFBgO+jDcDbH86W8+PH6nM0bj42GgQIDQKEBgFCgwChQYDQIEBoEOAcbQD2fnK9/oFj9fiZnYvl/I0jB8r56Lkv6hdg09loECA0CBAaBAgNAoQGAUKDAB/v34RGm/rfNi3dXv9aRzfzYfhXbDQIEBoECA0ChAYBQoMAoUGA0CDAOdoAjCyvlfOVzl/lfHtTn4T98tRqOd91uhzTBzYaBAgNAoQGAUKDAKFBgNAgQGgQ0Mw2c51BPwQ3+v79/eX8m8dOlfN3FveU8zN313M2n40GAUKDAKFBgNAgQGgQIDQIEBoE+D7aEFr9bUdP1x8a+66cn2mm2ocdx6r9YKNBgNAgQGgQIDQIEBoECA0ChAYBztGG0JEDCz1df+8tY+X8j+cPts7G3zvf02uzPhsNAoQGAUKDAKFBgNAgQGgQ4OP9AVh5+sFy/ub0Wxvcobf3x2t72q8f7+nOtLHRIEBoECA0CBAaBAgNAoQGAUKDAOdog7DB29tI09/3v85IX2/POmw0CBAaBAgNAoQGAUKDAKFBgNAgwDnaAIx9+nU5n1+qD7qeGPu7p9e/7ckf24cnero1LWw0CBAaBAgNAoQGAUKDAKFBgNAgoJlt5jqDfghudPn0feX80uF3e7r/n2urrbNn9z7U071Zn40GAUKDAKFBgNAgQGgQIDQIEBoE+D7aEJo8u73+gcORx2AT2WgQIDQIEBoECA0ChAYBQoMAH+8PoYmPvy3nL1x9tJy/Pj1fzveffbl1NrPl8/JaumOjQYDQIEBoECA0CBAaBAgNAoQGAf7cHATYaBAgNAgQGgQIDQKEBgFCgwChQYDQIEBoECA0CBAaBAgNAoQGAUKDAKFBgNAgQGgQIDQIEBoECA0ChAYBQoMAoUGA0CBAaBAgNAgQGgQIDQKEBgFCgwChQYDQIEBoECA0CBAaBAgNAoQGAUKDgH8APMxzNAdaP48AAAAASUVORK5CYII=\" y=\"-6.64\"/>\n   </g>\n   <g id=\"matplotlib.axis_1\">\n    <g id=\"xtick_1\">\n     <g id=\"line2d_1\">\n      <defs>\n       <path d=\"M 0 0 \nL 0 3.5 \n\" id=\"m398d99f447\" style=\"stroke:#000000;stroke-width:0.8;\"/>\n      </defs>\n      <g>\n       <use style=\"stroke:#000000;stroke-width:0.8;\" x=\"30.807857\" xlink:href=\"#m398d99f447\" y=\"224.64\"/>\n      </g>\n     </g>\n     <g id=\"text_1\">\n      <!-- 0 -->\n      <defs>\n       <path d=\"M 31.78125 66.40625 \nQ 24.171875 66.40625 20.328125 58.90625 \nQ 16.5 51.421875 16.5 36.375 \nQ 16.5 21.390625 20.328125 13.890625 \nQ 24.171875 6.390625 31.78125 6.390625 \nQ 39.453125 6.390625 43.28125 13.890625 \nQ 47.125 21.390625 47.125 36.375 \nQ 47.125 51.421875 43.28125 58.90625 \nQ 39.453125 66.40625 31.78125 66.40625 \nz\nM 31.78125 74.21875 \nQ 44.046875 74.21875 50.515625 64.515625 \nQ 56.984375 54.828125 56.984375 36.375 \nQ 56.984375 17.96875 50.515625 8.265625 \nQ 44.046875 -1.421875 31.78125 -1.421875 \nQ 19.53125 -1.421875 13.0625 8.265625 \nQ 6.59375 17.96875 6.59375 36.375 \nQ 6.59375 54.828125 13.0625 64.515625 \nQ 19.53125 74.21875 31.78125 74.21875 \nz\n\" id=\"DejaVuSans-48\"/>\n      </defs>\n      <g transform=\"translate(27.626607 239.238437)scale(0.1 -0.1)\">\n       <use xlink:href=\"#DejaVuSans-48\"/>\n      </g>\n     </g>\n    </g>\n    <g id=\"xtick_2\">\n     <g id=\"line2d_2\">\n      <g>\n       <use style=\"stroke:#000000;stroke-width:0.8;\" x=\"69.636429\" xlink:href=\"#m398d99f447\" y=\"224.64\"/>\n      </g>\n     </g>\n     <g id=\"text_2\">\n      <!-- 5 -->\n      <defs>\n       <path d=\"M 10.796875 72.90625 \nL 49.515625 72.90625 \nL 49.515625 64.59375 \nL 19.828125 64.59375 \nL 19.828125 46.734375 \nQ 21.96875 47.46875 24.109375 47.828125 \nQ 26.265625 48.1875 28.421875 48.1875 \nQ 40.625 48.1875 47.75 41.5 \nQ 54.890625 34.8125 54.890625 23.390625 \nQ 54.890625 11.625 47.5625 5.09375 \nQ 40.234375 -1.421875 26.90625 -1.421875 \nQ 22.3125 -1.421875 17.546875 -0.640625 \nQ 12.796875 0.140625 7.71875 1.703125 \nL 7.71875 11.625 \nQ 12.109375 9.234375 16.796875 8.0625 \nQ 21.484375 6.890625 26.703125 6.890625 \nQ 35.15625 6.890625 40.078125 11.328125 \nQ 45.015625 15.765625 45.015625 23.390625 \nQ 45.015625 31 40.078125 35.4375 \nQ 35.15625 39.890625 26.703125 39.890625 \nQ 22.75 39.890625 18.8125 39.015625 \nQ 14.890625 38.140625 10.796875 36.28125 \nz\n\" id=\"DejaVuSans-53\"/>\n      </defs>\n      <g transform=\"translate(66.455179 239.238437)scale(0.1 -0.1)\">\n       <use xlink:href=\"#DejaVuSans-53\"/>\n      </g>\n     </g>\n    </g>\n    <g id=\"xtick_3\">\n     <g id=\"line2d_3\">\n      <g>\n       <use style=\"stroke:#000000;stroke-width:0.8;\" x=\"108.465\" xlink:href=\"#m398d99f447\" y=\"224.64\"/>\n      </g>\n     </g>\n     <g id=\"text_3\">\n      <!-- 10 -->\n      <defs>\n       <path d=\"M 12.40625 8.296875 \nL 28.515625 8.296875 \nL 28.515625 63.921875 \nL 10.984375 60.40625 \nL 10.984375 69.390625 \nL 28.421875 72.90625 \nL 38.28125 72.90625 \nL 38.28125 8.296875 \nL 54.390625 8.296875 \nL 54.390625 0 \nL 12.40625 0 \nz\n\" id=\"DejaVuSans-49\"/>\n      </defs>\n      <g transform=\"translate(102.1025 239.238437)scale(0.1 -0.1)\">\n       <use xlink:href=\"#DejaVuSans-49\"/>\n       <use x=\"63.623047\" xlink:href=\"#DejaVuSans-48\"/>\n      </g>\n     </g>\n    </g>\n    <g id=\"xtick_4\">\n     <g id=\"line2d_4\">\n      <g>\n       <use style=\"stroke:#000000;stroke-width:0.8;\" x=\"147.293571\" xlink:href=\"#m398d99f447\" y=\"224.64\"/>\n      </g>\n     </g>\n     <g id=\"text_4\">\n      <!-- 15 -->\n      <g transform=\"translate(140.931071 239.238437)scale(0.1 -0.1)\">\n       <use xlink:href=\"#DejaVuSans-49\"/>\n       <use x=\"63.623047\" xlink:href=\"#DejaVuSans-53\"/>\n      </g>\n     </g>\n    </g>\n    <g id=\"xtick_5\">\n     <g id=\"line2d_5\">\n      <g>\n       <use style=\"stroke:#000000;stroke-width:0.8;\" x=\"186.122143\" xlink:href=\"#m398d99f447\" y=\"224.64\"/>\n      </g>\n     </g>\n     <g id=\"text_5\">\n      <!-- 20 -->\n      <defs>\n       <path d=\"M 19.1875 8.296875 \nL 53.609375 8.296875 \nL 53.609375 0 \nL 7.328125 0 \nL 7.328125 8.296875 \nQ 12.9375 14.109375 22.625 23.890625 \nQ 32.328125 33.6875 34.8125 36.53125 \nQ 39.546875 41.84375 41.421875 45.53125 \nQ 43.3125 49.21875 43.3125 52.78125 \nQ 43.3125 58.59375 39.234375 62.25 \nQ 35.15625 65.921875 28.609375 65.921875 \nQ 23.96875 65.921875 18.8125 64.3125 \nQ 13.671875 62.703125 7.8125 59.421875 \nL 7.8125 69.390625 \nQ 13.765625 71.78125 18.9375 73 \nQ 24.125 74.21875 28.421875 74.21875 \nQ 39.75 74.21875 46.484375 68.546875 \nQ 53.21875 62.890625 53.21875 53.421875 \nQ 53.21875 48.921875 51.53125 44.890625 \nQ 49.859375 40.875 45.40625 35.40625 \nQ 44.1875 33.984375 37.640625 27.21875 \nQ 31.109375 20.453125 19.1875 8.296875 \nz\n\" id=\"DejaVuSans-50\"/>\n      </defs>\n      <g transform=\"translate(179.759643 239.238437)scale(0.1 -0.1)\">\n       <use xlink:href=\"#DejaVuSans-50\"/>\n       <use x=\"63.623047\" xlink:href=\"#DejaVuSans-48\"/>\n      </g>\n     </g>\n    </g>\n    <g id=\"xtick_6\">\n     <g id=\"line2d_6\">\n      <g>\n       <use style=\"stroke:#000000;stroke-width:0.8;\" x=\"224.950714\" xlink:href=\"#m398d99f447\" y=\"224.64\"/>\n      </g>\n     </g>\n     <g id=\"text_6\">\n      <!-- 25 -->\n      <g transform=\"translate(218.588214 239.238437)scale(0.1 -0.1)\">\n       <use xlink:href=\"#DejaVuSans-50\"/>\n       <use x=\"63.623047\" xlink:href=\"#DejaVuSans-53\"/>\n      </g>\n     </g>\n    </g>\n   </g>\n   <g id=\"matplotlib.axis_2\">\n    <g id=\"ytick_1\">\n     <g id=\"line2d_7\">\n      <defs>\n       <path d=\"M 0 0 \nL -3.5 0 \n\" id=\"mf90ab59e50\" style=\"stroke:#000000;stroke-width:0.8;\"/>\n      </defs>\n      <g>\n       <use style=\"stroke:#000000;stroke-width:0.8;\" x=\"26.925\" xlink:href=\"#mf90ab59e50\" y=\"11.082857\"/>\n      </g>\n     </g>\n     <g id=\"text_7\">\n      <!-- 0 -->\n      <g transform=\"translate(13.5625 14.882076)scale(0.1 -0.1)\">\n       <use xlink:href=\"#DejaVuSans-48\"/>\n      </g>\n     </g>\n    </g>\n    <g id=\"ytick_2\">\n     <g id=\"line2d_8\">\n      <g>\n       <use style=\"stroke:#000000;stroke-width:0.8;\" x=\"26.925\" xlink:href=\"#mf90ab59e50\" y=\"49.911429\"/>\n      </g>\n     </g>\n     <g id=\"text_8\">\n      <!-- 5 -->\n      <g transform=\"translate(13.5625 53.710647)scale(0.1 -0.1)\">\n       <use xlink:href=\"#DejaVuSans-53\"/>\n      </g>\n     </g>\n    </g>\n    <g id=\"ytick_3\">\n     <g id=\"line2d_9\">\n      <g>\n       <use style=\"stroke:#000000;stroke-width:0.8;\" x=\"26.925\" xlink:href=\"#mf90ab59e50\" y=\"88.74\"/>\n      </g>\n     </g>\n     <g id=\"text_9\">\n      <!-- 10 -->\n      <g transform=\"translate(7.2 92.539219)scale(0.1 -0.1)\">\n       <use xlink:href=\"#DejaVuSans-49\"/>\n       <use x=\"63.623047\" xlink:href=\"#DejaVuSans-48\"/>\n      </g>\n     </g>\n    </g>\n    <g id=\"ytick_4\">\n     <g id=\"line2d_10\">\n      <g>\n       <use style=\"stroke:#000000;stroke-width:0.8;\" x=\"26.925\" xlink:href=\"#mf90ab59e50\" y=\"127.568571\"/>\n      </g>\n     </g>\n     <g id=\"text_10\">\n      <!-- 15 -->\n      <g transform=\"translate(7.2 131.36779)scale(0.1 -0.1)\">\n       <use xlink:href=\"#DejaVuSans-49\"/>\n       <use x=\"63.623047\" xlink:href=\"#DejaVuSans-53\"/>\n      </g>\n     </g>\n    </g>\n    <g id=\"ytick_5\">\n     <g id=\"line2d_11\">\n      <g>\n       <use style=\"stroke:#000000;stroke-width:0.8;\" x=\"26.925\" xlink:href=\"#mf90ab59e50\" y=\"166.397143\"/>\n      </g>\n     </g>\n     <g id=\"text_11\">\n      <!-- 20 -->\n      <g transform=\"translate(7.2 170.196362)scale(0.1 -0.1)\">\n       <use xlink:href=\"#DejaVuSans-50\"/>\n       <use x=\"63.623047\" xlink:href=\"#DejaVuSans-48\"/>\n      </g>\n     </g>\n    </g>\n    <g id=\"ytick_6\">\n     <g id=\"line2d_12\">\n      <g>\n       <use style=\"stroke:#000000;stroke-width:0.8;\" x=\"26.925\" xlink:href=\"#mf90ab59e50\" y=\"205.225714\"/>\n      </g>\n     </g>\n     <g id=\"text_12\">\n      <!-- 25 -->\n      <g transform=\"translate(7.2 209.024933)scale(0.1 -0.1)\">\n       <use xlink:href=\"#DejaVuSans-50\"/>\n       <use x=\"63.623047\" xlink:href=\"#DejaVuSans-53\"/>\n      </g>\n     </g>\n    </g>\n   </g>\n   <g id=\"patch_3\">\n    <path d=\"M 26.925 224.64 \nL 26.925 7.2 \n\" style=\"fill:none;stroke:#000000;stroke-linecap:square;stroke-linejoin:miter;stroke-width:0.8;\"/>\n   </g>\n   <g id=\"patch_4\">\n    <path d=\"M 244.365 224.64 \nL 244.365 7.2 \n\" style=\"fill:none;stroke:#000000;stroke-linecap:square;stroke-linejoin:miter;stroke-width:0.8;\"/>\n   </g>\n   <g id=\"patch_5\">\n    <path d=\"M 26.925 224.64 \nL 244.365 224.64 \n\" style=\"fill:none;stroke:#000000;stroke-linecap:square;stroke-linejoin:miter;stroke-width:0.8;\"/>\n   </g>\n   <g id=\"patch_6\">\n    <path d=\"M 26.925 7.2 \nL 244.365 7.2 \n\" style=\"fill:none;stroke:#000000;stroke-linecap:square;stroke-linejoin:miter;stroke-width:0.8;\"/>\n   </g>\n  </g>\n </g>\n <defs>\n  <clipPath id=\"pcacf4b3142\">\n   <rect height=\"217.44\" width=\"217.44\" x=\"26.925\" y=\"7.2\"/>\n  </clipPath>\n </defs>\n</svg>\n",
      "text/plain": "<Figure size 432x288 with 1 Axes>"
     },
     "metadata": {},
     "output_type": "display_data"
    }
   ],
   "source": [
    "# Plot mnist\n",
    "plt.imshow(test_data[index].reshape((28, 28)))"
   ]
  },
  {
   "cell_type": "code",
   "execution_count": null,
   "metadata": {},
   "outputs": [],
   "source": []
  }
 ]
}